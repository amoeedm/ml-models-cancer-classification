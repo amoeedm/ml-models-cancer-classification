{
 "cells": [
  {
   "cell_type": "markdown",
   "metadata": {},
   "source": [
    "# Classification of Tumors"
   ]
  },
  {
   "cell_type": "markdown",
   "metadata": {},
   "source": [
    "### Table of contents "
   ]
  },
  {
   "cell_type": "markdown",
   "metadata": {},
   "source": [
    "1. [Background](#background)\n",
    "2. [Libraries and data](#librar)\n",
    "3. [Pre-processing](#pre)\n",
    "    1. [Splitting the data](#split)\n",
    "4. [Supervised learning](#supl)\n",
    "    1. [Logistic Regression](#logreg)\n",
    "        1. [Evaluation of the model](#eva1)\n",
    "    2. [Decision tree](#tree)\n",
    "        1. [Evaluation of the model](#eva2)\n",
    "5. [Unsupervised learning](#usupl)\n",
    "    1. [k-Means Clustering](#clust)\n",
    "        1. [Evaluation of the model](#eva3)\n",
    "6. [Deep learning](#deep)\n",
    "    1. [Neural Networks](#nn)\n",
    "        1. [Evaluation of the model](#eva4)\n",
    "7. [Final remarks](#final)"
   ]
  },
  {
   "cell_type": "markdown",
   "metadata": {},
   "source": [
    "## 1. Background <a id=\"background\"></a>"
   ]
  },
  {
   "cell_type": "markdown",
   "metadata": {},
   "source": [
    "We use a clean dataset from 1995 about attributes of breast tumors computed from digitized images. The tumors are diagnosed as malignant og benign. I deliberately chose this dataset because it is clean and to be able to use a wide and selected range of machine learning models.<br/>\n",
    "<br/>\n",
    "Source: https://data.world/health/breast-cancer-wisconsin"
   ]
  },
  {
   "cell_type": "markdown",
   "metadata": {},
   "source": [
    "## 2. Libraries and data <a id=\"librar\"></a>"
   ]
  },
  {
   "cell_type": "code",
   "execution_count": 28,
   "metadata": {},
   "outputs": [],
   "source": [
    "import pandas as pd              #Data structures and data analysis library.\n",
    "import numpy as np               #Vectors, matrices and linear algebra in general.\n",
    "\n",
    "import seaborn as sns            #Statistical visualization library.\n",
    "import matplotlib.pyplot as plt  #Plotting library.\n",
    "import graphviz                  #Graph vizualisation library.\n",
    "\n",
    "#Machine learning.\n",
    "from sklearn.preprocessing import StandardScaler       #Standardize data.\n",
    "from sklearn.model_selection import train_test_split   #Splitting the data.\n",
    "from sklearn import linear_model                       #Linear and logistic regression.\n",
    "from sklearn.metrics import confusion_matrix           #Evaluating machine learning models.\n",
    "from sklearn import tree                               #Decision tree.\n",
    "from sklearn.ensemble import RandomForestClassifier    #Random Forests.\n",
    "from sklearn.cluster import KMeans                     #k-Means clustering.\n",
    "from sklearn.metrics import jaccard_similarity_score   #Measure for comparing ratio of similar objects.\n",
    "\n",
    "#Deep Learning.\n",
    "from keras.models import Sequential                    #Sequential layering.\n",
    "from keras.layers import Dense                         #Core of a layer.\n",
    "from ann_visualizer.visualize import ann_viz           #Neural network visualizer."
   ]
  },
  {
   "cell_type": "code",
   "execution_count": 29,
   "metadata": {},
   "outputs": [
    {
     "data": {
      "text/html": [
       "<div>\n",
       "<style scoped>\n",
       "    .dataframe tbody tr th:only-of-type {\n",
       "        vertical-align: middle;\n",
       "    }\n",
       "\n",
       "    .dataframe tbody tr th {\n",
       "        vertical-align: top;\n",
       "    }\n",
       "\n",
       "    .dataframe thead th {\n",
       "        text-align: right;\n",
       "    }\n",
       "</style>\n",
       "<table border=\"1\" class=\"dataframe\">\n",
       "  <thead>\n",
       "    <tr style=\"text-align: right;\">\n",
       "      <th></th>\n",
       "      <th>id</th>\n",
       "      <th>diagnosis</th>\n",
       "      <th>radius_mean</th>\n",
       "      <th>texture_mean</th>\n",
       "      <th>perimeter_mean</th>\n",
       "      <th>area_mean</th>\n",
       "      <th>smoothness_mean</th>\n",
       "      <th>compactness_mean</th>\n",
       "      <th>concavity_mean</th>\n",
       "      <th>concave points_mean</th>\n",
       "      <th>...</th>\n",
       "      <th>texture_worst</th>\n",
       "      <th>perimeter_worst</th>\n",
       "      <th>area_worst</th>\n",
       "      <th>smoothness_worst</th>\n",
       "      <th>compactness_worst</th>\n",
       "      <th>concavity_worst</th>\n",
       "      <th>concave points_worst</th>\n",
       "      <th>symmetry_worst</th>\n",
       "      <th>fractal_dimension_worst</th>\n",
       "      <th>Unnamed: 32</th>\n",
       "    </tr>\n",
       "  </thead>\n",
       "  <tbody>\n",
       "    <tr>\n",
       "      <th>482</th>\n",
       "      <td>912519</td>\n",
       "      <td>B</td>\n",
       "      <td>13.470</td>\n",
       "      <td>14.06</td>\n",
       "      <td>87.32</td>\n",
       "      <td>546.3</td>\n",
       "      <td>0.10710</td>\n",
       "      <td>0.11550</td>\n",
       "      <td>0.05786</td>\n",
       "      <td>0.05266</td>\n",
       "      <td>...</td>\n",
       "      <td>18.32</td>\n",
       "      <td>94.94</td>\n",
       "      <td>660.2</td>\n",
       "      <td>0.1393</td>\n",
       "      <td>0.2499</td>\n",
       "      <td>0.1848</td>\n",
       "      <td>0.1335</td>\n",
       "      <td>0.3227</td>\n",
       "      <td>0.09326</td>\n",
       "      <td>NaN</td>\n",
       "    </tr>\n",
       "    <tr>\n",
       "      <th>148</th>\n",
       "      <td>86973702</td>\n",
       "      <td>B</td>\n",
       "      <td>14.440</td>\n",
       "      <td>15.18</td>\n",
       "      <td>93.97</td>\n",
       "      <td>640.1</td>\n",
       "      <td>0.09970</td>\n",
       "      <td>0.10210</td>\n",
       "      <td>0.08487</td>\n",
       "      <td>0.05532</td>\n",
       "      <td>...</td>\n",
       "      <td>19.85</td>\n",
       "      <td>108.60</td>\n",
       "      <td>766.9</td>\n",
       "      <td>0.1316</td>\n",
       "      <td>0.2735</td>\n",
       "      <td>0.3103</td>\n",
       "      <td>0.1599</td>\n",
       "      <td>0.2691</td>\n",
       "      <td>0.07683</td>\n",
       "      <td>NaN</td>\n",
       "    </tr>\n",
       "    <tr>\n",
       "      <th>44</th>\n",
       "      <td>85638502</td>\n",
       "      <td>M</td>\n",
       "      <td>13.170</td>\n",
       "      <td>21.81</td>\n",
       "      <td>85.42</td>\n",
       "      <td>531.5</td>\n",
       "      <td>0.09714</td>\n",
       "      <td>0.10470</td>\n",
       "      <td>0.08259</td>\n",
       "      <td>0.05252</td>\n",
       "      <td>...</td>\n",
       "      <td>29.89</td>\n",
       "      <td>105.50</td>\n",
       "      <td>740.7</td>\n",
       "      <td>0.1503</td>\n",
       "      <td>0.3904</td>\n",
       "      <td>0.3728</td>\n",
       "      <td>0.1607</td>\n",
       "      <td>0.3693</td>\n",
       "      <td>0.09618</td>\n",
       "      <td>NaN</td>\n",
       "    </tr>\n",
       "    <tr>\n",
       "      <th>470</th>\n",
       "      <td>9113778</td>\n",
       "      <td>B</td>\n",
       "      <td>9.667</td>\n",
       "      <td>18.49</td>\n",
       "      <td>61.49</td>\n",
       "      <td>289.1</td>\n",
       "      <td>0.08946</td>\n",
       "      <td>0.06258</td>\n",
       "      <td>0.02948</td>\n",
       "      <td>0.01514</td>\n",
       "      <td>...</td>\n",
       "      <td>25.62</td>\n",
       "      <td>70.88</td>\n",
       "      <td>385.2</td>\n",
       "      <td>0.1234</td>\n",
       "      <td>0.1542</td>\n",
       "      <td>0.1277</td>\n",
       "      <td>0.0656</td>\n",
       "      <td>0.3174</td>\n",
       "      <td>0.08524</td>\n",
       "      <td>NaN</td>\n",
       "    </tr>\n",
       "    <tr>\n",
       "      <th>337</th>\n",
       "      <td>897630</td>\n",
       "      <td>M</td>\n",
       "      <td>18.770</td>\n",
       "      <td>21.43</td>\n",
       "      <td>122.90</td>\n",
       "      <td>1092.0</td>\n",
       "      <td>0.09116</td>\n",
       "      <td>0.14020</td>\n",
       "      <td>0.10600</td>\n",
       "      <td>0.06090</td>\n",
       "      <td>...</td>\n",
       "      <td>34.37</td>\n",
       "      <td>161.10</td>\n",
       "      <td>1873.0</td>\n",
       "      <td>0.1498</td>\n",
       "      <td>0.4827</td>\n",
       "      <td>0.4634</td>\n",
       "      <td>0.2048</td>\n",
       "      <td>0.3679</td>\n",
       "      <td>0.09870</td>\n",
       "      <td>NaN</td>\n",
       "    </tr>\n",
       "  </tbody>\n",
       "</table>\n",
       "<p>5 rows × 33 columns</p>\n",
       "</div>"
      ],
      "text/plain": [
       "           id diagnosis  radius_mean  texture_mean  perimeter_mean  area_mean  \\\n",
       "482    912519         B       13.470         14.06           87.32      546.3   \n",
       "148  86973702         B       14.440         15.18           93.97      640.1   \n",
       "44   85638502         M       13.170         21.81           85.42      531.5   \n",
       "470   9113778         B        9.667         18.49           61.49      289.1   \n",
       "337    897630         M       18.770         21.43          122.90     1092.0   \n",
       "\n",
       "     smoothness_mean  compactness_mean  concavity_mean  concave points_mean  \\\n",
       "482          0.10710           0.11550         0.05786              0.05266   \n",
       "148          0.09970           0.10210         0.08487              0.05532   \n",
       "44           0.09714           0.10470         0.08259              0.05252   \n",
       "470          0.08946           0.06258         0.02948              0.01514   \n",
       "337          0.09116           0.14020         0.10600              0.06090   \n",
       "\n",
       "        ...       texture_worst  perimeter_worst  area_worst  \\\n",
       "482     ...               18.32            94.94       660.2   \n",
       "148     ...               19.85           108.60       766.9   \n",
       "44      ...               29.89           105.50       740.7   \n",
       "470     ...               25.62            70.88       385.2   \n",
       "337     ...               34.37           161.10      1873.0   \n",
       "\n",
       "     smoothness_worst  compactness_worst  concavity_worst  \\\n",
       "482            0.1393             0.2499           0.1848   \n",
       "148            0.1316             0.2735           0.3103   \n",
       "44             0.1503             0.3904           0.3728   \n",
       "470            0.1234             0.1542           0.1277   \n",
       "337            0.1498             0.4827           0.4634   \n",
       "\n",
       "     concave points_worst  symmetry_worst  fractal_dimension_worst  \\\n",
       "482                0.1335          0.3227                  0.09326   \n",
       "148                0.1599          0.2691                  0.07683   \n",
       "44                 0.1607          0.3693                  0.09618   \n",
       "470                0.0656          0.3174                  0.08524   \n",
       "337                0.2048          0.3679                  0.09870   \n",
       "\n",
       "     Unnamed: 32  \n",
       "482          NaN  \n",
       "148          NaN  \n",
       "44           NaN  \n",
       "470          NaN  \n",
       "337          NaN  \n",
       "\n",
       "[5 rows x 33 columns]"
      ]
     },
     "execution_count": 29,
     "metadata": {},
     "output_type": "execute_result"
    }
   ],
   "source": [
    "data = pd.read_csv(\"breast-cancer-wisconsin-data.csv\")\n",
    "data.sample(5)"
   ]
  },
  {
   "cell_type": "code",
   "execution_count": 30,
   "metadata": {},
   "outputs": [
    {
     "name": "stdout",
     "output_type": "stream",
     "text": [
      "<class 'pandas.core.frame.DataFrame'>\n",
      "RangeIndex: 569 entries, 0 to 568\n",
      "Data columns (total 33 columns):\n",
      "id                         569 non-null int64\n",
      "diagnosis                  569 non-null object\n",
      "radius_mean                569 non-null float64\n",
      "texture_mean               569 non-null float64\n",
      "perimeter_mean             569 non-null float64\n",
      "area_mean                  569 non-null float64\n",
      "smoothness_mean            569 non-null float64\n",
      "compactness_mean           569 non-null float64\n",
      "concavity_mean             569 non-null float64\n",
      "concave points_mean        569 non-null float64\n",
      "symmetry_mean              569 non-null float64\n",
      "fractal_dimension_mean     569 non-null float64\n",
      "radius_se                  569 non-null float64\n",
      "texture_se                 569 non-null float64\n",
      "perimeter_se               569 non-null float64\n",
      "area_se                    569 non-null float64\n",
      "smoothness_se              569 non-null float64\n",
      "compactness_se             569 non-null float64\n",
      "concavity_se               569 non-null float64\n",
      "concave points_se          569 non-null float64\n",
      "symmetry_se                569 non-null float64\n",
      "fractal_dimension_se       569 non-null float64\n",
      "radius_worst               569 non-null float64\n",
      "texture_worst              569 non-null float64\n",
      "perimeter_worst            569 non-null float64\n",
      "area_worst                 569 non-null float64\n",
      "smoothness_worst           569 non-null float64\n",
      "compactness_worst          569 non-null float64\n",
      "concavity_worst            569 non-null float64\n",
      "concave points_worst       569 non-null float64\n",
      "symmetry_worst             569 non-null float64\n",
      "fractal_dimension_worst    569 non-null float64\n",
      "Unnamed: 32                0 non-null float64\n",
      "dtypes: float64(31), int64(1), object(1)\n",
      "memory usage: 146.8+ KB\n"
     ]
    }
   ],
   "source": [
    "data.info()"
   ]
  },
  {
   "cell_type": "markdown",
   "metadata": {},
   "source": [
    "The data consists of 33 columns. One column, `Unnamed: 32`, seems empty from the sample. Another column, `id` seems to be a unique identifying number for the images of the patients. The column `diagnosis` is our main labeling of the data with `B` for benign or `M` for malignant. The remaining columns are geometrical features of the tumors. Each feature is listed with mean value, maximum value (worst) and standard error."
   ]
  },
  {
   "cell_type": "markdown",
   "metadata": {},
   "source": [
    "## 3. Pre-processing <a id=\"pre\"></a>"
   ]
  },
  {
   "cell_type": "markdown",
   "metadata": {},
   "source": [
    "We drop the columns `id`and `Unnamed: 32` and encode benign diagnosis `B` with the integer 0 and the malign diagnosis `M` with the integer 1."
   ]
  },
  {
   "cell_type": "code",
   "execution_count": 6,
   "metadata": {},
   "outputs": [],
   "source": [
    "data.drop(columns=['id', 'Unnamed: 32'], inplace=True)\n",
    "data.replace([\"B\",\"M\"],[0,1], inplace=True)"
   ]
  },
  {
   "cell_type": "markdown",
   "metadata": {},
   "source": [
    "Next, we extract the `diagnosis` data as the labels `Y` and we standardize the rest of the data as `X`."
   ]
  },
  {
   "cell_type": "code",
   "execution_count": 7,
   "metadata": {},
   "outputs": [],
   "source": [
    "Y = data['diagnosis']\n",
    "X = data.drop('diagnosis', axis=1).values\n",
    "X = StandardScaler().fit_transform(X)"
   ]
  },
  {
   "cell_type": "code",
   "execution_count": 8,
   "metadata": {},
   "outputs": [
    {
     "data": {
      "text/plain": [
       "0    357\n",
       "1    212\n",
       "Name: diagnosis, dtype: int64"
      ]
     },
     "execution_count": 8,
     "metadata": {},
     "output_type": "execute_result"
    }
   ],
   "source": [
    "#Distribution of the diagnosis.\n",
    "Y.value_counts()"
   ]
  },
  {
   "cell_type": "code",
   "execution_count": 9,
   "metadata": {},
   "outputs": [
    {
     "data": {
      "text/plain": [
       "array([[ 1.09706398, -2.07333501,  1.26993369,  0.9843749 ,  1.56846633,\n",
       "         3.28351467,  2.65287398,  2.53247522,  2.21751501,  2.25574689,\n",
       "         2.48973393, -0.56526506,  2.83303087,  2.48757756, -0.21400165,\n",
       "         1.31686157,  0.72402616,  0.66081994,  1.14875667,  0.90708308,\n",
       "         1.88668963, -1.35929347,  2.30360062,  2.00123749,  1.30768627,\n",
       "         2.61666502,  2.10952635,  2.29607613,  2.75062224,  1.93701461]])"
      ]
     },
     "execution_count": 9,
     "metadata": {},
     "output_type": "execute_result"
    }
   ],
   "source": [
    "#The first row of data after standardizing.\n",
    "X[:1]"
   ]
  },
  {
   "cell_type": "markdown",
   "metadata": {},
   "source": [
    "### 3A. Splitting the data <a id=\"split\"></a>"
   ]
  },
  {
   "cell_type": "markdown",
   "metadata": {},
   "source": [
    "To develop the models for classification, we split the data at random into 80% training data and 20% testing data."
   ]
  },
  {
   "cell_type": "code",
   "execution_count": 10,
   "metadata": {},
   "outputs": [],
   "source": [
    "xTrain, xTest, yTrain, yTest = train_test_split(X, Y, test_size = 0.20, random_state = 42)"
   ]
  },
  {
   "cell_type": "markdown",
   "metadata": {},
   "source": [
    "## 4. Supervised learning <a id=\"supl\"></a>"
   ]
  },
  {
   "cell_type": "markdown",
   "metadata": {},
   "source": [
    "Our dataset is a binary classification problem (benign or malignant) of tumors. First, we create different machine learning models suitable for binary classification. Second, we apply the models to predict the outcome of the training data. Third, we evaluate the models."
   ]
  },
  {
   "cell_type": "markdown",
   "metadata": {},
   "source": [
    "### 4A. Logistic Regression <a id=\"logreg\"></a>"
   ]
  },
  {
   "cell_type": "markdown",
   "metadata": {},
   "source": [
    "We begin by making a logistic regression model. This regression model may be suitable as logistic functions have two horizontal asymptotes where the binary values could cluster."
   ]
  },
  {
   "cell_type": "code",
   "execution_count": 11,
   "metadata": {},
   "outputs": [
    {
     "data": {
      "text/plain": [
       "LogisticRegression(C=150, class_weight=None, dual=False, fit_intercept=True,\n",
       "          intercept_scaling=1, max_iter=5000, multi_class='warn',\n",
       "          n_jobs=None, penalty='l2', random_state=11, solver='lbfgs',\n",
       "          tol=0.0001, verbose=0, warm_start=False)"
      ]
     },
     "execution_count": 11,
     "metadata": {},
     "output_type": "execute_result"
    }
   ],
   "source": [
    "log_reg = linear_model.LogisticRegression(C=150, random_state=11, solver='lbfgs', max_iter=5000)\n",
    "log_reg.fit(xTrain, yTrain)"
   ]
  },
  {
   "cell_type": "code",
   "execution_count": 12,
   "metadata": {},
   "outputs": [],
   "source": [
    "yPred = log_reg.predict(xTest)"
   ]
  },
  {
   "cell_type": "markdown",
   "metadata": {},
   "source": [
    "#### 4Aa. Evaluation of the model <a id=\"eva1\"></a>"
   ]
  },
  {
   "cell_type": "markdown",
   "metadata": {},
   "source": [
    "First, we compute the accuracy of our logistic model."
   ]
  },
  {
   "cell_type": "code",
   "execution_count": 13,
   "metadata": {},
   "outputs": [],
   "source": [
    "def correctPred(yTest,yPred):\n",
    "    return sum(yTest == yPred)\n",
    "\n",
    "def printPred(model_name, yTest, yPred):\n",
    "    correct = correctPred(yTest,yPred)\n",
    "    total = len(yTest)\n",
    "    return \"The \"+model_name+\" correctly predicted \"+str(correct)+\" out of \"+str(total)+\" predictions.\\nRatio of correct predictions: \"+str(correct/total)"
   ]
  },
  {
   "cell_type": "code",
   "execution_count": 14,
   "metadata": {},
   "outputs": [
    {
     "name": "stdout",
     "output_type": "stream",
     "text": [
      "The logistic model correctly predicted 107 out of 114 predictions.\n",
      "Ratio of correct predictions: 0.9385964912280702\n"
     ]
    }
   ],
   "source": [
    "print(printPred(\"logistic model\", yTest, yPred))"
   ]
  },
  {
   "cell_type": "markdown",
   "metadata": {},
   "source": [
    "We examine the predictions using a confusion matrix to identify the false positives and false negatives of this prediction."
   ]
  },
  {
   "cell_type": "code",
   "execution_count": 15,
   "metadata": {},
   "outputs": [
    {
     "data": {
      "image/png": "[encoded data removed]",
      "text/plain": [
       "<Figure size 360x216 with 2 Axes>"
      ]
     },
     "metadata": {
      "needs_background": "light"
     },
     "output_type": "display_data"
    }
   ],
   "source": [
    "def confusionMatrix(yTest,yPred):\n",
    "    df_cm = pd.DataFrame(confusion_matrix(yTest, yPred), index = [i for i in \"BM\"],\n",
    "                      columns = [i for i in \"BM\"])\n",
    "    plt.figure(figsize = (5,3))\n",
    "    sns.set(font_scale=2)\n",
    "    sns.heatmap(df_cm, annot=True)\n",
    "    plt.show()\n",
    "    \n",
    "confusionMatrix(yTest,yPred)"
   ]
  },
  {
   "cell_type": "code",
   "execution_count": 16,
   "metadata": {},
   "outputs": [
    {
     "data": {
      "text/plain": [
       "81     0\n",
       "73     1\n",
       "281    0\n",
       "275    0\n",
       "208    0\n",
       "228    0\n",
       "238    0\n",
       "Name: diagnosis, dtype: int64"
      ]
     },
     "execution_count": 16,
     "metadata": {},
     "output_type": "execute_result"
    }
   ],
   "source": [
    "yTest[yTest != yPred]"
   ]
  },
  {
   "cell_type": "markdown",
   "metadata": {},
   "source": [
    "The confusion matrix and a comparison of the wrong predictions show that six images with benign tumors were wrongly predicted as malignant, and that one image of a malignant tumor was wrongly predicted as malignant. That is, six false positives and one false negative. In our case of a potential breast cancer, the 1 false negative is an unfortunate prediction."
   ]
  },
  {
   "cell_type": "markdown",
   "metadata": {},
   "source": [
    "### 4B. Decision tree  <a id=\"tree\"></a>"
   ]
  },
  {
   "cell_type": "markdown",
   "metadata": {},
   "source": [
    "Due to the binary nature of our predictions, we create a decision tree based on our training data. After evaluating, we make use of random forests to potentially increase the prediction accuracy. First, we make a tree with two levels to understand the decisions."
   ]
  },
  {
   "cell_type": "code",
   "execution_count": 17,
   "metadata": {},
   "outputs": [],
   "source": [
    "tre = tree.DecisionTreeClassifier(max_depth=3)\n",
    "tre.fit(xTrain, yTrain)\n",
    "yPred = tre.predict(xTest)"
   ]
  },
  {
   "cell_type": "markdown",
   "metadata": {},
   "source": [
    "We visualize the first layers of the decision tree."
   ]
  },
  {
   "cell_type": "code",
   "execution_count": 18,
   "metadata": {},
   "outputs": [
    {
     "data": {
      "image/svg+xml": [
       "<?xml version=\"1.0\" encoding=\"UTF-8\" standalone=\"no\"?>\r\n",
       "<!DOCTYPE svg PUBLIC \"-//W3C//DTD SVG 1.1//EN\"\r\n",
       " \"http://www.w3.org/Graphics/SVG/1.1/DTD/svg11.dtd\">\r\n",
       "<!-- Generated by graphviz version 2.38.0 (20140413.2041)\r\n",
       " -->\r\n",
       "<!-- Title: Tree Pages: 1 -->\r\n",
       "<svg width=\"759pt\" height=\"356pt\"\r\n",
       " viewBox=\"0.00 0.00 759.00 356.00\" xmlns=\"http://www.w3.org/2000/svg\" xmlns:xlink=\"http://www.w3.org/1999/xlink\">\r\n",
       "<g id=\"graph0\" class=\"graph\" transform=\"scale(1 1) rotate(0) translate(4 352)\">\r\n",
       "<title>Tree</title>\r\n",
       "<polygon fill=\"white\" stroke=\"none\" points=\"-4,4 -4,-352 755,-352 755,4 -4,4\"/>\r\n",
       "<!-- 0 -->\r\n",
       "<g id=\"node1\" class=\"node\"><title>0</title>\r\n",
       "<path fill=\"#e58139\" fill-opacity=\"0.407843\" stroke=\"black\" d=\"M425.5,-348C425.5,-348 233.5,-348 233.5,-348 227.5,-348 221.5,-342 221.5,-336 221.5,-336 221.5,-292 221.5,-292 221.5,-286 227.5,-280 233.5,-280 233.5,-280 425.5,-280 425.5,-280 431.5,-280 437.5,-286 437.5,-292 437.5,-292 437.5,-336 437.5,-336 437.5,-342 431.5,-348 425.5,-348\"/>\r\n",
       "<text text-anchor=\"middle\" x=\"329.5\" y=\"-332.8\" font-family=\"Helvetica,sans-Serif\" font-size=\"14.00\">concave points_mean &lt;= 0.061</text>\r\n",
       "<text text-anchor=\"middle\" x=\"329.5\" y=\"-317.8\" font-family=\"Helvetica,sans-Serif\" font-size=\"14.00\">gini = 0.467</text>\r\n",
       "<text text-anchor=\"middle\" x=\"329.5\" y=\"-302.8\" font-family=\"Helvetica,sans-Serif\" font-size=\"14.00\">samples = 455</text>\r\n",
       "<text text-anchor=\"middle\" x=\"329.5\" y=\"-287.8\" font-family=\"Helvetica,sans-Serif\" font-size=\"14.00\">value = [286, 169]</text>\r\n",
       "</g>\r\n",
       "<!-- 1 -->\r\n",
       "<g id=\"node2\" class=\"node\"><title>1</title>\r\n",
       "<path fill=\"#e58139\" fill-opacity=\"0.941176\" stroke=\"black\" d=\"M294.5,-244C294.5,-244 160.5,-244 160.5,-244 154.5,-244 148.5,-238 148.5,-232 148.5,-232 148.5,-188 148.5,-188 148.5,-182 154.5,-176 160.5,-176 160.5,-176 294.5,-176 294.5,-176 300.5,-176 306.5,-182 306.5,-188 306.5,-188 306.5,-232 306.5,-232 306.5,-238 300.5,-244 294.5,-244\"/>\r\n",
       "<text text-anchor=\"middle\" x=\"227.5\" y=\"-228.8\" font-family=\"Helvetica,sans-Serif\" font-size=\"14.00\">radius_worst &lt;= 0.116</text>\r\n",
       "<text text-anchor=\"middle\" x=\"227.5\" y=\"-213.8\" font-family=\"Helvetica,sans-Serif\" font-size=\"14.00\">gini = 0.107</text>\r\n",
       "<text text-anchor=\"middle\" x=\"227.5\" y=\"-198.8\" font-family=\"Helvetica,sans-Serif\" font-size=\"14.00\">samples = 282</text>\r\n",
       "<text text-anchor=\"middle\" x=\"227.5\" y=\"-183.8\" font-family=\"Helvetica,sans-Serif\" font-size=\"14.00\">value = [266, 16]</text>\r\n",
       "</g>\r\n",
       "<!-- 0&#45;&gt;1 -->\r\n",
       "<g id=\"edge1\" class=\"edge\"><title>0&#45;&gt;1</title>\r\n",
       "<path fill=\"none\" stroke=\"black\" d=\"M296.384,-279.884C287.298,-270.798 277.345,-260.845 267.9,-251.4\"/>\r\n",
       "<polygon fill=\"black\" stroke=\"black\" points=\"270.345,-248.896 260.799,-244.299 265.396,-253.845 270.345,-248.896\"/>\r\n",
       "<text text-anchor=\"middle\" x=\"260.799\" y=\"-265.599\" font-family=\"Helvetica,sans-Serif\" font-size=\"14.00\">True</text>\r\n",
       "</g>\r\n",
       "<!-- 8 -->\r\n",
       "<g id=\"node9\" class=\"node\"><title>8</title>\r\n",
       "<path fill=\"#399de5\" fill-opacity=\"0.870588\" stroke=\"black\" d=\"M528,-244C528,-244 337,-244 337,-244 331,-244 325,-238 325,-232 325,-232 325,-188 325,-188 325,-182 331,-176 337,-176 337,-176 528,-176 528,-176 534,-176 540,-182 540,-188 540,-188 540,-232 540,-232 540,-238 534,-244 528,-244\"/>\r\n",
       "<text text-anchor=\"middle\" x=\"432.5\" y=\"-228.8\" font-family=\"Helvetica,sans-Serif\" font-size=\"14.00\">concave points_worst &lt;= 0.486</text>\r\n",
       "<text text-anchor=\"middle\" x=\"432.5\" y=\"-213.8\" font-family=\"Helvetica,sans-Serif\" font-size=\"14.00\">gini = 0.204</text>\r\n",
       "<text text-anchor=\"middle\" x=\"432.5\" y=\"-198.8\" font-family=\"Helvetica,sans-Serif\" font-size=\"14.00\">samples = 173</text>\r\n",
       "<text text-anchor=\"middle\" x=\"432.5\" y=\"-183.8\" font-family=\"Helvetica,sans-Serif\" font-size=\"14.00\">value = [20, 153]</text>\r\n",
       "</g>\r\n",
       "<!-- 0&#45;&gt;8 -->\r\n",
       "<g id=\"edge8\" class=\"edge\"><title>0&#45;&gt;8</title>\r\n",
       "<path fill=\"none\" stroke=\"black\" d=\"M362.941,-279.884C372.116,-270.798 382.166,-260.845 391.704,-251.4\"/>\r\n",
       "<polygon fill=\"black\" stroke=\"black\" points=\"394.231,-253.823 398.874,-244.299 389.306,-248.849 394.231,-253.823\"/>\r\n",
       "<text text-anchor=\"middle\" x=\"398.752\" y=\"-265.599\" font-family=\"Helvetica,sans-Serif\" font-size=\"14.00\">False</text>\r\n",
       "</g>\r\n",
       "<!-- 2 -->\r\n",
       "<g id=\"node3\" class=\"node\"><title>2</title>\r\n",
       "<path fill=\"#e58139\" fill-opacity=\"0.980392\" stroke=\"black\" d=\"M117,-140C117,-140 12,-140 12,-140 6,-140 0,-134 0,-128 0,-128 0,-84 0,-84 0,-78 6,-72 12,-72 12,-72 117,-72 117,-72 123,-72 129,-78 129,-84 129,-84 129,-128 129,-128 129,-134 123,-140 117,-140\"/>\r\n",
       "<text text-anchor=\"middle\" x=\"64.5\" y=\"-124.8\" font-family=\"Helvetica,sans-Serif\" font-size=\"14.00\">area_se &lt;= 0.184</text>\r\n",
       "<text text-anchor=\"middle\" x=\"64.5\" y=\"-109.8\" font-family=\"Helvetica,sans-Serif\" font-size=\"14.00\">gini = 0.037</text>\r\n",
       "<text text-anchor=\"middle\" x=\"64.5\" y=\"-94.8\" font-family=\"Helvetica,sans-Serif\" font-size=\"14.00\">samples = 263</text>\r\n",
       "<text text-anchor=\"middle\" x=\"64.5\" y=\"-79.8\" font-family=\"Helvetica,sans-Serif\" font-size=\"14.00\">value = [258, 5]</text>\r\n",
       "</g>\r\n",
       "<!-- 1&#45;&gt;2 -->\r\n",
       "<g id=\"edge2\" class=\"edge\"><title>1&#45;&gt;2</title>\r\n",
       "<path fill=\"none\" stroke=\"black\" d=\"M174.579,-175.884C159.127,-166.214 142.106,-155.563 126.164,-145.587\"/>\r\n",
       "<polygon fill=\"black\" stroke=\"black\" points=\"127.768,-142.462 117.435,-140.125 124.055,-148.396 127.768,-142.462\"/>\r\n",
       "</g>\r\n",
       "<!-- 5 -->\r\n",
       "<g id=\"node6\" class=\"node\"><title>5</title>\r\n",
       "<path fill=\"#399de5\" fill-opacity=\"0.274510\" stroke=\"black\" d=\"M303.5,-140C303.5,-140 159.5,-140 159.5,-140 153.5,-140 147.5,-134 147.5,-128 147.5,-128 147.5,-84 147.5,-84 147.5,-78 153.5,-72 159.5,-72 159.5,-72 303.5,-72 303.5,-72 309.5,-72 315.5,-78 315.5,-84 315.5,-84 315.5,-128 315.5,-128 315.5,-134 309.5,-140 303.5,-140\"/>\r\n",
       "<text text-anchor=\"middle\" x=\"231.5\" y=\"-124.8\" font-family=\"Helvetica,sans-Serif\" font-size=\"14.00\">texture_mean &lt;= &#45;0.721</text>\r\n",
       "<text text-anchor=\"middle\" x=\"231.5\" y=\"-109.8\" font-family=\"Helvetica,sans-Serif\" font-size=\"14.00\">gini = 0.488</text>\r\n",
       "<text text-anchor=\"middle\" x=\"231.5\" y=\"-94.8\" font-family=\"Helvetica,sans-Serif\" font-size=\"14.00\">samples = 19</text>\r\n",
       "<text text-anchor=\"middle\" x=\"231.5\" y=\"-79.8\" font-family=\"Helvetica,sans-Serif\" font-size=\"14.00\">value = [8, 11]</text>\r\n",
       "</g>\r\n",
       "<!-- 1&#45;&gt;5 -->\r\n",
       "<g id=\"edge5\" class=\"edge\"><title>1&#45;&gt;5</title>\r\n",
       "<path fill=\"none\" stroke=\"black\" d=\"M228.799,-175.884C229.117,-167.778 229.461,-158.982 229.795,-150.472\"/>\r\n",
       "<polygon fill=\"black\" stroke=\"black\" points=\"233.3,-150.429 230.194,-140.299 226.305,-150.155 233.3,-150.429\"/>\r\n",
       "</g>\r\n",
       "<!-- 3 -->\r\n",
       "<g id=\"node4\" class=\"node\"><title>3</title>\r\n",
       "<path fill=\"#c0c0c0\" stroke=\"black\" d=\"M56.5,-36C56.5,-36 26.5,-36 26.5,-36 20.5,-36 14.5,-30 14.5,-24 14.5,-24 14.5,-12 14.5,-12 14.5,-6 20.5,-0 26.5,-0 26.5,-0 56.5,-0 56.5,-0 62.5,-0 68.5,-6 68.5,-12 68.5,-12 68.5,-24 68.5,-24 68.5,-30 62.5,-36 56.5,-36\"/>\r\n",
       "<text text-anchor=\"middle\" x=\"41.5\" y=\"-14.3\" font-family=\"Helvetica,sans-Serif\" font-size=\"14.00\">(...)</text>\r\n",
       "</g>\r\n",
       "<!-- 2&#45;&gt;3 -->\r\n",
       "<g id=\"edge3\" class=\"edge\"><title>2&#45;&gt;3</title>\r\n",
       "<path fill=\"none\" stroke=\"black\" d=\"M55.6734,-71.9961C53.3931,-63.4699 50.9644,-54.3885 48.7734,-46.1962\"/>\r\n",
       "<polygon fill=\"black\" stroke=\"black\" points=\"52.1193,-45.1596 46.1544,-36.4034 45.3569,-46.9682 52.1193,-45.1596\"/>\r\n",
       "</g>\r\n",
       "<!-- 4 -->\r\n",
       "<g id=\"node5\" class=\"node\"><title>4</title>\r\n",
       "<path fill=\"#c0c0c0\" stroke=\"black\" d=\"M128.5,-36C128.5,-36 98.5,-36 98.5,-36 92.5,-36 86.5,-30 86.5,-24 86.5,-24 86.5,-12 86.5,-12 86.5,-6 92.5,-0 98.5,-0 98.5,-0 128.5,-0 128.5,-0 134.5,-0 140.5,-6 140.5,-12 140.5,-12 140.5,-24 140.5,-24 140.5,-30 134.5,-36 128.5,-36\"/>\r\n",
       "<text text-anchor=\"middle\" x=\"113.5\" y=\"-14.3\" font-family=\"Helvetica,sans-Serif\" font-size=\"14.00\">(...)</text>\r\n",
       "</g>\r\n",
       "<!-- 2&#45;&gt;4 -->\r\n",
       "<g id=\"edge4\" class=\"edge\"><title>2&#45;&gt;4</title>\r\n",
       "<path fill=\"none\" stroke=\"black\" d=\"M83.3045,-71.9961C88.3784,-63.0909 93.7973,-53.5802 98.6238,-45.1093\"/>\r\n",
       "<polygon fill=\"black\" stroke=\"black\" points=\"101.675,-46.8247 103.584,-36.4034 95.5925,-43.3593 101.675,-46.8247\"/>\r\n",
       "</g>\r\n",
       "<!-- 6 -->\r\n",
       "<g id=\"node7\" class=\"node\"><title>6</title>\r\n",
       "<path fill=\"#c0c0c0\" stroke=\"black\" d=\"M211.5,-36C211.5,-36 181.5,-36 181.5,-36 175.5,-36 169.5,-30 169.5,-24 169.5,-24 169.5,-12 169.5,-12 169.5,-6 175.5,-0 181.5,-0 181.5,-0 211.5,-0 211.5,-0 217.5,-0 223.5,-6 223.5,-12 223.5,-12 223.5,-24 223.5,-24 223.5,-30 217.5,-36 211.5,-36\"/>\r\n",
       "<text text-anchor=\"middle\" x=\"196.5\" y=\"-14.3\" font-family=\"Helvetica,sans-Serif\" font-size=\"14.00\">(...)</text>\r\n",
       "</g>\r\n",
       "<!-- 5&#45;&gt;6 -->\r\n",
       "<g id=\"edge6\" class=\"edge\"><title>5&#45;&gt;6</title>\r\n",
       "<path fill=\"none\" stroke=\"black\" d=\"M218.068,-71.9961C214.56,-63.3751 210.82,-54.1866 207.457,-45.9234\"/>\r\n",
       "<polygon fill=\"black\" stroke=\"black\" points=\"210.594,-44.3463 203.583,-36.4034 204.111,-46.9851 210.594,-44.3463\"/>\r\n",
       "</g>\r\n",
       "<!-- 7 -->\r\n",
       "<g id=\"node8\" class=\"node\"><title>7</title>\r\n",
       "<path fill=\"#c0c0c0\" stroke=\"black\" d=\"M283.5,-36C283.5,-36 253.5,-36 253.5,-36 247.5,-36 241.5,-30 241.5,-24 241.5,-24 241.5,-12 241.5,-12 241.5,-6 247.5,-0 253.5,-0 253.5,-0 283.5,-0 283.5,-0 289.5,-0 295.5,-6 295.5,-12 295.5,-12 295.5,-24 295.5,-24 295.5,-30 289.5,-36 283.5,-36\"/>\r\n",
       "<text text-anchor=\"middle\" x=\"268.5\" y=\"-14.3\" font-family=\"Helvetica,sans-Serif\" font-size=\"14.00\">(...)</text>\r\n",
       "</g>\r\n",
       "<!-- 5&#45;&gt;7 -->\r\n",
       "<g id=\"edge7\" class=\"edge\"><title>5&#45;&gt;7</title>\r\n",
       "<path fill=\"none\" stroke=\"black\" d=\"M245.699,-71.9961C249.449,-63.2804 253.448,-53.9846 257.034,-45.6514\"/>\r\n",
       "<polygon fill=\"black\" stroke=\"black\" points=\"260.275,-46.9726 261.012,-36.4034 253.845,-44.2061 260.275,-46.9726\"/>\r\n",
       "</g>\r\n",
       "<!-- 9 -->\r\n",
       "<g id=\"node10\" class=\"node\"><title>9</title>\r\n",
       "<path fill=\"#e58139\" fill-opacity=\"0.054902\" stroke=\"black\" d=\"M507.5,-140C507.5,-140 351.5,-140 351.5,-140 345.5,-140 339.5,-134 339.5,-128 339.5,-128 339.5,-84 339.5,-84 339.5,-78 345.5,-72 351.5,-72 351.5,-72 507.5,-72 507.5,-72 513.5,-72 519.5,-78 519.5,-84 519.5,-84 519.5,-128 519.5,-128 519.5,-134 513.5,-140 507.5,-140\"/>\r\n",
       "<text text-anchor=\"middle\" x=\"429.5\" y=\"-124.8\" font-family=\"Helvetica,sans-Serif\" font-size=\"14.00\">perimeter_worst &lt;= 0.238</text>\r\n",
       "<text text-anchor=\"middle\" x=\"429.5\" y=\"-109.8\" font-family=\"Helvetica,sans-Serif\" font-size=\"14.00\">gini = 0.5</text>\r\n",
       "<text text-anchor=\"middle\" x=\"429.5\" y=\"-94.8\" font-family=\"Helvetica,sans-Serif\" font-size=\"14.00\">samples = 35</text>\r\n",
       "<text text-anchor=\"middle\" x=\"429.5\" y=\"-79.8\" font-family=\"Helvetica,sans-Serif\" font-size=\"14.00\">value = [18, 17]</text>\r\n",
       "</g>\r\n",
       "<!-- 8&#45;&gt;9 -->\r\n",
       "<g id=\"edge9\" class=\"edge\"><title>8&#45;&gt;9</title>\r\n",
       "<path fill=\"none\" stroke=\"black\" d=\"M431.526,-175.884C431.288,-167.778 431.029,-158.982 430.779,-150.472\"/>\r\n",
       "<polygon fill=\"black\" stroke=\"black\" points=\"434.272,-150.192 430.479,-140.299 427.275,-150.398 434.272,-150.192\"/>\r\n",
       "</g>\r\n",
       "<!-- 12 -->\r\n",
       "<g id=\"node13\" class=\"node\"><title>12</title>\r\n",
       "<path fill=\"#399de5\" fill-opacity=\"0.984314\" stroke=\"black\" d=\"M739,-140C739,-140 550,-140 550,-140 544,-140 538,-134 538,-128 538,-128 538,-84 538,-84 538,-78 544,-72 550,-72 550,-72 739,-72 739,-72 745,-72 751,-78 751,-84 751,-84 751,-128 751,-128 751,-134 745,-140 739,-140\"/>\r\n",
       "<text text-anchor=\"middle\" x=\"644.5\" y=\"-124.8\" font-family=\"Helvetica,sans-Serif\" font-size=\"14.00\">fractal_dimension_se &lt;= 3.448</text>\r\n",
       "<text text-anchor=\"middle\" x=\"644.5\" y=\"-109.8\" font-family=\"Helvetica,sans-Serif\" font-size=\"14.00\">gini = 0.029</text>\r\n",
       "<text text-anchor=\"middle\" x=\"644.5\" y=\"-94.8\" font-family=\"Helvetica,sans-Serif\" font-size=\"14.00\">samples = 138</text>\r\n",
       "<text text-anchor=\"middle\" x=\"644.5\" y=\"-79.8\" font-family=\"Helvetica,sans-Serif\" font-size=\"14.00\">value = [2, 136]</text>\r\n",
       "</g>\r\n",
       "<!-- 8&#45;&gt;12 -->\r\n",
       "<g id=\"edge12\" class=\"edge\"><title>8&#45;&gt;12</title>\r\n",
       "<path fill=\"none\" stroke=\"black\" d=\"M501.33,-175.884C522.171,-165.856 545.207,-154.773 566.597,-144.482\"/>\r\n",
       "<polygon fill=\"black\" stroke=\"black\" points=\"568.159,-147.614 575.653,-140.125 565.124,-141.306 568.159,-147.614\"/>\r\n",
       "</g>\r\n",
       "<!-- 10 -->\r\n",
       "<g id=\"node11\" class=\"node\"><title>10</title>\r\n",
       "<path fill=\"#c0c0c0\" stroke=\"black\" d=\"M390.5,-36C390.5,-36 360.5,-36 360.5,-36 354.5,-36 348.5,-30 348.5,-24 348.5,-24 348.5,-12 348.5,-12 348.5,-6 354.5,-0 360.5,-0 360.5,-0 390.5,-0 390.5,-0 396.5,-0 402.5,-6 402.5,-12 402.5,-12 402.5,-24 402.5,-24 402.5,-30 396.5,-36 390.5,-36\"/>\r\n",
       "<text text-anchor=\"middle\" x=\"375.5\" y=\"-14.3\" font-family=\"Helvetica,sans-Serif\" font-size=\"14.00\">(...)</text>\r\n",
       "</g>\r\n",
       "<!-- 9&#45;&gt;10 -->\r\n",
       "<g id=\"edge10\" class=\"edge\"><title>9&#45;&gt;10</title>\r\n",
       "<path fill=\"none\" stroke=\"black\" d=\"M408.777,-71.9961C403.185,-63.0909 397.213,-53.5802 391.894,-45.1093\"/>\r\n",
       "<polygon fill=\"black\" stroke=\"black\" points=\"394.71,-43.0111 386.428,-36.4034 388.781,-46.7335 394.71,-43.0111\"/>\r\n",
       "</g>\r\n",
       "<!-- 11 -->\r\n",
       "<g id=\"node12\" class=\"node\"><title>11</title>\r\n",
       "<path fill=\"#c0c0c0\" stroke=\"black\" d=\"M462.5,-36C462.5,-36 432.5,-36 432.5,-36 426.5,-36 420.5,-30 420.5,-24 420.5,-24 420.5,-12 420.5,-12 420.5,-6 426.5,-0 432.5,-0 432.5,-0 462.5,-0 462.5,-0 468.5,-0 474.5,-6 474.5,-12 474.5,-12 474.5,-24 474.5,-24 474.5,-30 468.5,-36 462.5,-36\"/>\r\n",
       "<text text-anchor=\"middle\" x=\"447.5\" y=\"-14.3\" font-family=\"Helvetica,sans-Serif\" font-size=\"14.00\">(...)</text>\r\n",
       "</g>\r\n",
       "<!-- 9&#45;&gt;11 -->\r\n",
       "<g id=\"edge11\" class=\"edge\"><title>9&#45;&gt;11</title>\r\n",
       "<path fill=\"none\" stroke=\"black\" d=\"M436.408,-71.9961C438.192,-63.4699 440.093,-54.3885 441.808,-46.1962\"/>\r\n",
       "<polygon fill=\"black\" stroke=\"black\" points=\"445.234,-46.9083 443.857,-36.4034 438.383,-45.4742 445.234,-46.9083\"/>\r\n",
       "</g>\r\n",
       "<!-- 13 -->\r\n",
       "<g id=\"node14\" class=\"node\"><title>13</title>\r\n",
       "<path fill=\"#c0c0c0\" stroke=\"black\" d=\"M623.5,-36C623.5,-36 593.5,-36 593.5,-36 587.5,-36 581.5,-30 581.5,-24 581.5,-24 581.5,-12 581.5,-12 581.5,-6 587.5,-0 593.5,-0 593.5,-0 623.5,-0 623.5,-0 629.5,-0 635.5,-6 635.5,-12 635.5,-12 635.5,-24 635.5,-24 635.5,-30 629.5,-36 623.5,-36\"/>\r\n",
       "<text text-anchor=\"middle\" x=\"608.5\" y=\"-14.3\" font-family=\"Helvetica,sans-Serif\" font-size=\"14.00\">(...)</text>\r\n",
       "</g>\r\n",
       "<!-- 12&#45;&gt;13 -->\r\n",
       "<g id=\"edge13\" class=\"edge\"><title>12&#45;&gt;13</title>\r\n",
       "<path fill=\"none\" stroke=\"black\" d=\"M630.684,-71.9961C627.036,-63.2804 623.145,-53.9846 619.656,-45.6514\"/>\r\n",
       "<polygon fill=\"black\" stroke=\"black\" points=\"622.875,-44.2763 615.785,-36.4034 616.418,-46.9793 622.875,-44.2763\"/>\r\n",
       "</g>\r\n",
       "<!-- 14 -->\r\n",
       "<g id=\"node15\" class=\"node\"><title>14</title>\r\n",
       "<path fill=\"#c0c0c0\" stroke=\"black\" d=\"M695.5,-36C695.5,-36 665.5,-36 665.5,-36 659.5,-36 653.5,-30 653.5,-24 653.5,-24 653.5,-12 653.5,-12 653.5,-6 659.5,-0 665.5,-0 665.5,-0 695.5,-0 695.5,-0 701.5,-0 707.5,-6 707.5,-12 707.5,-12 707.5,-24 707.5,-24 707.5,-30 701.5,-36 695.5,-36\"/>\r\n",
       "<text text-anchor=\"middle\" x=\"680.5\" y=\"-14.3\" font-family=\"Helvetica,sans-Serif\" font-size=\"14.00\">(...)</text>\r\n",
       "</g>\r\n",
       "<!-- 12&#45;&gt;14 -->\r\n",
       "<g id=\"edge14\" class=\"edge\"><title>12&#45;&gt;14</title>\r\n",
       "<path fill=\"none\" stroke=\"black\" d=\"M658.316,-71.9961C661.964,-63.2804 665.855,-53.9846 669.344,-45.6514\"/>\r\n",
       "<polygon fill=\"black\" stroke=\"black\" points=\"672.582,-46.9793 673.215,-36.4034 666.125,-44.2763 672.582,-46.9793\"/>\r\n",
       "</g>\r\n",
       "</g>\r\n",
       "</svg>\r\n"
      ],
      "text/plain": [
       "<graphviz.files.Source at 0x21ba5c81be0>"
      ]
     },
     "execution_count": 18,
     "metadata": {},
     "output_type": "execute_result"
    }
   ],
   "source": [
    "dot_data = tree.export_graphviz(tre, out_file=None, max_depth=2, feature_names=list(data.drop('diagnosis', axis=1).columns.values), filled=True, rounded=True)\n",
    "desTree = graphviz.Source(dot_data) \n",
    "desTree"
   ]
  },
  {
   "cell_type": "markdown",
   "metadata": {},
   "source": [
    "Note that our decision tree states that we may identify 136 of the 169 malignant tumors using only the attributes with `concavity`. This means that in our sample, it may be more likely that `concavity` is linked to malignant tumors. However, using cross-validation we should pursue this even further."
   ]
  },
  {
   "cell_type": "markdown",
   "metadata": {},
   "source": [
    "####  4Ba. Evaluation of the model <a id=\"eva2\"></a>"
   ]
  },
  {
   "cell_type": "markdown",
   "metadata": {},
   "source": [
    "We compute the accuracy of our model."
   ]
  },
  {
   "cell_type": "code",
   "execution_count": 19,
   "metadata": {},
   "outputs": [
    {
     "name": "stdout",
     "output_type": "stream",
     "text": [
      "The decision tree correctly predicted 108 out of 114 predictions.\n",
      "Ratio of correct predictions: 0.9473684210526315\n"
     ]
    }
   ],
   "source": [
    "print(printPred(\"decision tree\", yTest, yPred))"
   ]
  },
  {
   "cell_type": "markdown",
   "metadata": {},
   "source": [
    "Comparing only the accuracy, the decision tree is almost as good as the logistic model (they differ by one correct predicition). Let's see the details in the confusion matrix of the prediction is the following."
   ]
  },
  {
   "cell_type": "code",
   "execution_count": 20,
   "metadata": {},
   "outputs": [
    {
     "data": {
      "image/png": "[encoded data removed]",
      "text/plain": [
       "<Figure size 360x216 with 2 Axes>"
      ]
     },
     "metadata": {},
     "output_type": "display_data"
    }
   ],
   "source": [
    "confusionMatrix(yTest,yPred)"
   ]
  },
  {
   "cell_type": "markdown",
   "metadata": {},
   "source": [
    "Note that there are four false negatives, i.e. four persons with malignant tumor that are wrongly diagnosed with benign tumors. From a medical perspective, this suggests that the decision tree is not preferable over the logistic regression unless we consider more depth, but then we may risk overfitting the model. Another idea here may be to use random forests to get a better prediction."
   ]
  },
  {
   "cell_type": "markdown",
   "metadata": {},
   "source": [
    "## 5. Unsupervised learning <a id=\"usupl\"></a>"
   ]
  },
  {
   "cell_type": "markdown",
   "metadata": {},
   "source": [
    "Since our problem is a classification problem, we may also make use of clustering to uncover relations between our data. "
   ]
  },
  {
   "cell_type": "markdown",
   "metadata": {},
   "source": [
    "### 5A. k-Means Clustering <a id=\"clust\"></a>"
   ]
  },
  {
   "cell_type": "markdown",
   "metadata": {},
   "source": [
    "We  use $k$-means clustering to find clusters within our data. Note that even though we may suspect the $k$ number of clusters are 2, it may exist another optimal number of $k$. First, we find the optimal $k$ for $k$-means clustering. Second, we cluster the data after our model. Third, we evaluate our clustering."
   ]
  },
  {
   "cell_type": "markdown",
   "metadata": {},
   "source": [
    "To find the optimal number of clusters, we compute the Sum of Squared Errors (SSE) for some values of $k$, for example $k\\in \\{1,2,3,..., 11,12\\}$. Then we plot the SSE-values relative to the $k$-values and use the elbow method to find the optimal $k$."
   ]
  },
  {
   "cell_type": "code",
   "execution_count": 21,
   "metadata": {},
   "outputs": [
    {
     "data": {
      "image/png": "[encoded data removed]",
      "text/plain": [
       "<Figure size 432x288 with 1 Axes>"
      ]
     },
     "metadata": {},
     "output_type": "display_data"
    }
   ],
   "source": [
    "#We compute SSE for each k and plot the results\n",
    "kValues = []\n",
    "SSE = []\n",
    "for k in range(1,14):\n",
    "    kMean = KMeans(n_clusters=k)\n",
    "    kMean = kMean.fit(X)\n",
    "    SSE.append(kMean.inertia_)\n",
    "    kValues.append(k)\n",
    "\n",
    "sns.set(font_scale=1)\n",
    "plt.plot(kValues, SSE, 'bx-')\n",
    "plt.xlabel('k, number of clusters')\n",
    "plt.ylabel('Sum of Squared Errors (SSE)')\n",
    "plt.show()"
   ]
  },
  {
   "cell_type": "markdown",
   "metadata": {},
   "source": [
    "We suspect that $k=2$ or $k=3$ is our optimal number of clusters. To be certain, we compare the SSE for these numbers of clusters. Note that the optimal $k$ is the point $(k,SSE(k))$ which has maximum distance to the secant line between the end points."
   ]
  },
  {
   "cell_type": "code",
   "execution_count": 22,
   "metadata": {},
   "outputs": [
    {
     "name": "stdout",
     "output_type": "stream",
     "text": [
      "The optimal k is k=2\n"
     ]
    }
   ],
   "source": [
    "#y denotes the distance between each plotted point and the secant line.\n",
    "y = []\n",
    "end0 = np.array([kValues[0],SSE[0]])\n",
    "end1 = np.array([kValues[len(SSE)-1],SSE[len(SSE)-1]])\n",
    "for i in range(1,13):\n",
    "    point = np.array([kValues[i],SSE[i]])\n",
    "    distancePointToSecant = np.linalg.norm(np.cross(end1-end0, end0-point))/np.linalg.norm(end1-end0)\n",
    "    y.append(distancePointToSecant)\n",
    "\n",
    "print(\"The optimal k is k=\"+str(np.array(y).argmax()+1))\n"
   ]
  },
  {
   "cell_type": "markdown",
   "metadata": {},
   "source": [
    "This confirms that our dataset is indeed binary classified and that we should expect two clusters within the dataset. Now, we cluster the data."
   ]
  },
  {
   "cell_type": "code",
   "execution_count": 23,
   "metadata": {},
   "outputs": [],
   "source": [
    "kMean = KMeans(n_clusters=2, init=\"k-means++\", n_init=10)\n",
    "kMeanPredict = kMean.fit_predict(X)\n",
    "clusterCenters = kMean.cluster_centers_"
   ]
  },
  {
   "cell_type": "markdown",
   "metadata": {},
   "source": [
    "#### 5Aa.  Evaluation of the model <a id=\"eva3\"></a>"
   ]
  },
  {
   "cell_type": "markdown",
   "metadata": {},
   "source": [
    "We visualize the clustered data with the clustering centers."
   ]
  },
  {
   "cell_type": "code",
   "execution_count": 24,
   "metadata": {},
   "outputs": [
    {
     "data": {
      "image/png": "[encoded data removed]",
      "text/plain": [
       "<Figure size 432x288 with 1 Axes>"
      ]
     },
     "metadata": {},
     "output_type": "display_data"
    }
   ],
   "source": [
    "plt.scatter(X[:,0], X[:,1], c=kMeanPredict, cmap=plt.cm.Paired)\n",
    "plt.title(\"2-Means Clustering\")\n",
    "plt.scatter(clusterCenters[:, 0], clusterCenters[:, 1], c='green', s=200, alpha=0.5);\n",
    "plt.show()"
   ]
  },
  {
   "cell_type": "markdown",
   "metadata": {},
   "source": [
    "Note that we obtain two clusters. We can compare with the true data."
   ]
  },
  {
   "cell_type": "code",
   "execution_count": 25,
   "metadata": {},
   "outputs": [
    {
     "data": {
      "image/png": "[encoded data removed]",
      "text/plain": [
       "<Figure size 432x288 with 1 Axes>"
      ]
     },
     "metadata": {},
     "output_type": "display_data"
    }
   ],
   "source": [
    "plt.scatter(X[:,0], X[:,1], c=data[\"diagnosis\"], cmap=plt.cm.Paired)\n",
    "plt.title(\"Actual diagnosis\")\n",
    "plt.scatter(clusterCenters[:, 0], clusterCenters[:, 1], c='green', s=200, alpha=0.5);\n",
    "plt.show()"
   ]
  },
  {
   "cell_type": "markdown",
   "metadata": {},
   "source": [
    "Note that our clusters are somewhat convex, so k-means was an intuitive choice. However, if the clusters were not convex, we would have to try another clustering algorithm. Now, we evaluate the clustering using some measures."
   ]
  },
  {
   "cell_type": "code",
   "execution_count": 26,
   "metadata": {},
   "outputs": [
    {
     "name": "stdout",
     "output_type": "stream",
     "text": [
      "Jaccard Index:  0.9103690685413005\n"
     ]
    }
   ],
   "source": [
    "j = jaccard_similarity_score(data[\"diagnosis\"], kMeanPredict)\n",
    "print(\"Jaccard Index: \",j)"
   ]
  },
  {
   "cell_type": "markdown",
   "metadata": {},
   "source": [
    "According to the Jaccard index, the clustering is correct in around 90,5% of the cases. We examine the accuracy of the clustering using a confusion matrix."
   ]
  },
  {
   "cell_type": "code",
   "execution_count": 27,
   "metadata": {},
   "outputs": [
    {
     "data": {
      "text/plain": [
       "array([[343,  14],\n",
       "       [ 37, 175]], dtype=int64)"
      ]
     },
     "execution_count": 27,
     "metadata": {},
     "output_type": "execute_result"
    }
   ],
   "source": [
    "confusion_matrix(data[\"diagnosis\"], kMeanPredict)"
   ]
  },
  {
   "cell_type": "markdown",
   "metadata": {},
   "source": [
    "Here, the ratio of false negative is $\\frac{37}{343+14+37+175}=\\frac{37}{569} \\simeq 0,06$. On the other hand, the ratio of false negatives in our logistic regression model was $\\frac{1}{114}=\\frac{36}{569} \\simeq 0,008$. This means that the logistic model is both more accurate and far better at avoiding false negatives."
   ]
  },
  {
   "cell_type": "markdown",
   "metadata": {},
   "source": [
    "## 6. Deep Learning <a id=\"deep\"></a>"
   ]
  },
  {
   "cell_type": "markdown",
   "metadata": {},
   "source": [
    "We make a neural network with linear layering using `keras` to make predictions."
   ]
  },
  {
   "cell_type": "markdown",
   "metadata": {},
   "source": [
    "### 6A. Neural Networks <a id=\"nn\"></a>"
   ]
  },
  {
   "cell_type": "markdown",
   "metadata": {},
   "source": [
    "We define the layering of our neural network as linear and find the number of variables in the input layer."
   ]
  },
  {
   "cell_type": "code",
   "execution_count": 26,
   "metadata": {},
   "outputs": [
    {
     "name": "stdout",
     "output_type": "stream",
     "text": [
      "Number of variables in input layer: 30\n"
     ]
    }
   ],
   "source": [
    "nn_model = Sequential()\n",
    "print(\"Number of variables in input layer:\",X[:1].shape[1])"
   ]
  },
  {
   "cell_type": "markdown",
   "metadata": {},
   "source": [
    "We make a neural network consisting of 30 variables in the input layer, 2 hidden layer with 16 nodes and 8 nodes, and 1 output node in the final layer."
   ]
  },
  {
   "cell_type": "code",
   "execution_count": 27,
   "metadata": {},
   "outputs": [],
   "source": [
    "nn_model.add(Dense(16, input_dim=30, activation='relu'))\n",
    "nn_model.add(Dense(8, activation='relu'))\n",
    "nn_model.add(Dense(1, activation='sigmoid'))"
   ]
  },
  {
   "cell_type": "markdown",
   "metadata": {},
   "source": [
    "We compile and fit our neural network to our training data."
   ]
  },
  {
   "cell_type": "code",
   "execution_count": 35,
   "metadata": {},
   "outputs": [
    {
     "name": "stdout",
     "output_type": "stream",
     "text": [
      "Epoch 1/150\n",
      "455/455 [==============================] - 1s 2ms/step - loss: 1.6397e-05 - acc: 1.0000\n",
      "Epoch 2/150\n",
      "455/455 [==============================] - 0s 485us/step - loss: 1.3222e-05 - acc: 1.0000\n",
      "Epoch 3/150\n",
      "455/455 [==============================] - 0s 457us/step - loss: 1.2850e-05 - acc: 1.0000\n",
      "Epoch 4/150\n",
      "455/455 [==============================] - 0s 404us/step - loss: 1.0964e-05 - acc: 1.0000\n",
      "Epoch 5/150\n",
      "455/455 [==============================] - 0s 361us/step - loss: 8.7234e-05 - acc: 1.0000\n",
      "Epoch 6/150\n",
      "455/455 [==============================] - 0s 338us/step - loss: 1.2264e-05 - acc: 1.0000\n",
      "Epoch 7/150\n",
      "455/455 [==============================] - 0s 445us/step - loss: 7.6274e-06 - acc: 1.0000\n",
      "Epoch 8/150\n",
      "455/455 [==============================] - 0s 485us/step - loss: 6.1710e-06 - acc: 1.0000\n",
      "Epoch 9/150\n",
      "455/455 [==============================] - 0s 399us/step - loss: 5.4133e-06 - acc: 1.0000\n",
      "Epoch 10/150\n",
      "455/455 [==============================] - 0s 358us/step - loss: 5.1863e-06 - acc: 1.0000\n",
      "Epoch 11/150\n",
      "455/455 [==============================] - 0s 371us/step - loss: 4.9891e-06 - acc: 1.0000\n",
      "Epoch 12/150\n",
      "455/455 [==============================] - 0s 375us/step - loss: 4.6149e-06 - acc: 1.0000\n",
      "Epoch 13/150\n",
      "455/455 [==============================] - 0s 358us/step - loss: 4.4420e-06 - acc: 1.0000\n",
      "Epoch 14/150\n",
      "455/455 [==============================] - 0s 426us/step - loss: 4.2046e-06 - acc: 1.0000\n",
      "Epoch 15/150\n",
      "455/455 [==============================] - 0s 409us/step - loss: 4.0861e-06 - acc: 1.0000\n",
      "Epoch 16/150\n",
      "455/455 [==============================] - 0s 564us/step - loss: 3.9229e-06 - acc: 1.0000\n",
      "Epoch 17/150\n",
      "455/455 [==============================] - 0s 463us/step - loss: 3.7963e-06 - acc: 1.0000\n",
      "Epoch 18/150\n",
      "455/455 [==============================] - 0s 435us/step - loss: 3.6905e-06 - acc: 1.0000\n",
      "Epoch 19/150\n",
      "455/455 [==============================] - 0s 522us/step - loss: 3.5304e-06 - acc: 1.0000\n",
      "Epoch 20/150\n",
      "455/455 [==============================] - 0s 451us/step - loss: 3.3864e-06 - acc: 1.0000\n",
      "Epoch 21/150\n",
      "455/455 [==============================] - 0s 394us/step - loss: 3.2794e-06 - acc: 1.0000\n",
      "Epoch 22/150\n",
      "455/455 [==============================] - 0s 616us/step - loss: 3.1944e-06 - acc: 1.0000\n",
      "Epoch 23/150\n",
      "455/455 [==============================] - 0s 442us/step - loss: 3.0691e-06 - acc: 1.0000\n",
      "Epoch 24/150\n",
      "455/455 [==============================] - 0s 417us/step - loss: 2.9968e-06 - acc: 1.0000\n",
      "Epoch 25/150\n",
      "455/455 [==============================] - 0s 442us/step - loss: 2.8902e-06 - acc: 1.0000 0s - loss: 2.2936e-06 - acc: 1.000\n",
      "Epoch 26/150\n",
      "455/455 [==============================] - 0s 416us/step - loss: 2.8161e-06 - acc: 1.0000\n",
      "Epoch 27/150\n",
      "455/455 [==============================] - 0s 433us/step - loss: 2.7118e-06 - acc: 1.0000\n",
      "Epoch 28/150\n",
      "455/455 [==============================] - 0s 451us/step - loss: 2.6885e-06 - acc: 1.0000\n",
      "Epoch 29/150\n",
      "455/455 [==============================] - 0s 411us/step - loss: 2.5731e-06 - acc: 1.0000 0s - loss: 2.6749e-06 - acc: 1.000\n",
      "Epoch 30/150\n",
      "455/455 [==============================] - 0s 390us/step - loss: 2.4617e-06 - acc: 1.0000\n",
      "Epoch 31/150\n",
      "455/455 [==============================] - 0s 432us/step - loss: 2.3778e-06 - acc: 1.0000\n",
      "Epoch 32/150\n",
      "455/455 [==============================] - 0s 407us/step - loss: 2.3387e-06 - acc: 1.0000\n",
      "Epoch 33/150\n",
      "455/455 [==============================] - ETA: 0s - loss: 2.4238e-06 - acc: 1.000 - 0s 412us/step - loss: 2.2616e-06 - acc: 1.0000\n",
      "Epoch 34/150\n",
      "455/455 [==============================] - 0s 457us/step - loss: 2.1780e-06 - acc: 1.0000\n",
      "Epoch 35/150\n",
      "455/455 [==============================] - 0s 481us/step - loss: 2.1392e-06 - acc: 1.0000\n",
      "Epoch 36/150\n",
      "455/455 [==============================] - 0s 450us/step - loss: 2.0860e-06 - acc: 1.0000\n",
      "Epoch 37/150\n",
      "455/455 [==============================] - 0s 572us/step - loss: 2.0093e-06 - acc: 1.0000\n",
      "Epoch 38/150\n",
      "455/455 [==============================] - 0s 580us/step - loss: 1.9583e-06 - acc: 1.0000\n",
      "Epoch 39/150\n",
      "455/455 [==============================] - 0s 479us/step - loss: 1.9198e-06 - acc: 1.0000\n",
      "Epoch 40/150\n",
      "455/455 [==============================] - 0s 471us/step - loss: 1.8497e-06 - acc: 1.0000\n",
      "Epoch 41/150\n",
      "455/455 [==============================] - 0s 464us/step - loss: 1.7886e-06 - acc: 1.0000\n",
      "Epoch 42/150\n",
      "455/455 [==============================] - 0s 468us/step - loss: 1.8146e-06 - acc: 1.0000\n",
      "Epoch 43/150\n",
      "455/455 [==============================] - 0s 433us/step - loss: 1.7073e-06 - acc: 1.0000\n",
      "Epoch 44/150\n",
      "455/455 [==============================] - 0s 426us/step - loss: 1.6348e-06 - acc: 1.0000 0s - loss: 1.1832e-06 - acc: 1.0\n",
      "Epoch 45/150\n",
      "455/455 [==============================] - 0s 395us/step - loss: 1.6264e-06 - acc: 1.0000\n",
      "Epoch 46/150\n",
      "455/455 [==============================] - 0s 433us/step - loss: 1.5501e-06 - acc: 1.0000\n",
      "Epoch 47/150\n",
      "455/455 [==============================] - 0s 461us/step - loss: 1.5377e-06 - acc: 1.0000\n",
      "Epoch 48/150\n",
      "455/455 [==============================] - 0s 418us/step - loss: 1.4689e-06 - acc: 1.0000\n",
      "Epoch 49/150\n",
      "455/455 [==============================] - 0s 434us/step - loss: 1.4362e-06 - acc: 1.0000\n",
      "Epoch 50/150\n",
      "455/455 [==============================] - 0s 495us/step - loss: 1.3863e-06 - acc: 1.0000\n",
      "Epoch 51/150\n",
      "455/455 [==============================] - 0s 407us/step - loss: 1.3511e-06 - acc: 1.0000\n",
      "Epoch 52/150\n",
      "455/455 [==============================] - 0s 437us/step - loss: 1.3249e-06 - acc: 1.0000\n",
      "Epoch 53/150\n",
      "455/455 [==============================] - 0s 382us/step - loss: 1.2860e-06 - acc: 1.0000\n",
      "Epoch 54/150\n",
      "455/455 [==============================] - 0s 425us/step - loss: 1.2431e-06 - acc: 1.0000\n",
      "Epoch 55/150\n",
      "455/455 [==============================] - 0s 440us/step - loss: 1.2815e-06 - acc: 1.0000\n",
      "Epoch 56/150\n",
      "455/455 [==============================] - 0s 349us/step - loss: 1.1828e-06 - acc: 1.0000\n",
      "Epoch 57/150\n",
      "455/455 [==============================] - 0s 438us/step - loss: 1.1456e-06 - acc: 1.0000\n",
      "Epoch 58/150\n",
      "455/455 [==============================] - 0s 453us/step - loss: 1.1184e-06 - acc: 1.0000\n",
      "Epoch 59/150\n",
      "455/455 [==============================] - 0s 509us/step - loss: 1.0886e-06 - acc: 1.0000 0s - loss: 7.3052e-07 - acc: 1.00\n",
      "Epoch 60/150\n",
      "455/455 [==============================] - 0s 488us/step - loss: 1.0650e-06 - acc: 1.0000\n",
      "Epoch 61/150\n",
      "455/455 [==============================] - 0s 378us/step - loss: 1.0681e-06 - acc: 1.0000\n",
      "Epoch 62/150\n",
      "455/455 [==============================] - 0s 467us/step - loss: 1.0061e-06 - acc: 1.0000\n",
      "Epoch 63/150\n",
      "455/455 [==============================] - 0s 515us/step - loss: 9.8589e-07 - acc: 1.0000\n",
      "Epoch 64/150\n",
      "455/455 [==============================] - 0s 563us/step - loss: 9.7090e-07 - acc: 1.0000\n",
      "Epoch 65/150\n",
      "455/455 [==============================] - 0s 537us/step - loss: 9.2963e-07 - acc: 1.0000\n",
      "Epoch 66/150\n",
      "455/455 [==============================] - 0s 498us/step - loss: 9.0215e-07 - acc: 1.0000\n",
      "Epoch 67/150\n",
      "455/455 [==============================] - 0s 462us/step - loss: 8.9278e-07 - acc: 1.0000\n",
      "Epoch 68/150\n",
      "455/455 [==============================] - 0s 449us/step - loss: 8.5909e-07 - acc: 1.0000\n",
      "Epoch 69/150\n",
      "455/455 [==============================] - 0s 341us/step - loss: 8.3336e-07 - acc: 1.0000\n",
      "Epoch 70/150\n",
      "455/455 [==============================] - 0s 372us/step - loss: 8.1310e-07 - acc: 1.0000\n",
      "Epoch 71/150\n",
      "455/455 [==============================] - 0s 334us/step - loss: 7.9913e-07 - acc: 1.0000\n",
      "Epoch 72/150\n",
      "455/455 [==============================] - 0s 368us/step - loss: 7.7738e-07 - acc: 1.0000\n",
      "Epoch 73/150\n",
      "455/455 [==============================] - 0s 415us/step - loss: 7.6466e-07 - acc: 1.0000\n",
      "Epoch 74/150\n",
      "455/455 [==============================] - 0s 352us/step - loss: 7.4784e-07 - acc: 1.0000\n",
      "Epoch 75/150\n",
      "455/455 [==============================] - 0s 425us/step - loss: 7.3344e-07 - acc: 1.0000\n",
      "Epoch 76/150\n",
      "455/455 [==============================] - 0s 411us/step - loss: 7.0436e-07 - acc: 1.0000\n",
      "Epoch 77/150\n",
      "455/455 [==============================] - 0s 424us/step - loss: 6.9783e-07 - acc: 1.0000\n",
      "Epoch 78/150\n",
      "455/455 [==============================] - 0s 488us/step - loss: 6.7143e-07 - acc: 1.0000\n",
      "Epoch 79/150\n",
      "455/455 [==============================] - 0s 448us/step - loss: 6.6179e-07 - acc: 1.0000\n",
      "Epoch 80/150\n",
      "455/455 [==============================] - 0s 511us/step - loss: 6.5182e-07 - acc: 1.0000 0s - loss: 7.4540e-07 - acc: 1.00\n",
      "Epoch 81/150\n",
      "455/455 [==============================] - 0s 518us/step - loss: 6.2603e-07 - acc: 1.0000\n",
      "Epoch 82/150\n",
      "455/455 [==============================] - 0s 469us/step - loss: 6.2022e-07 - acc: 1.0000\n",
      "Epoch 83/150\n",
      "455/455 [==============================] - 0s 580us/step - loss: 6.0736e-07 - acc: 1.0000\n",
      "Epoch 84/150\n",
      "455/455 [==============================] - 0s 461us/step - loss: 5.8643e-07 - acc: 1.0000\n",
      "Epoch 85/150\n",
      "455/455 [==============================] - 0s 463us/step - loss: 5.7249e-07 - acc: 1.0000\n",
      "Epoch 86/150\n",
      "455/455 [==============================] - 0s 585us/step - loss: 5.5885e-07 - acc: 1.0000\n",
      "Epoch 87/150\n",
      "455/455 [==============================] - 0s 461us/step - loss: 5.5259e-07 - acc: 1.0000\n",
      "Epoch 88/150\n",
      "455/455 [==============================] - 0s 429us/step - loss: 5.4101e-07 - acc: 1.0000\n",
      "Epoch 89/150\n",
      "455/455 [==============================] - 0s 475us/step - loss: 5.2564e-07 - acc: 1.0000\n",
      "Epoch 90/150\n",
      "455/455 [==============================] - 0s 526us/step - loss: 5.1170e-07 - acc: 1.0000\n",
      "Epoch 91/150\n",
      "455/455 [==============================] - 0s 431us/step - loss: 5.0083e-07 - acc: 1.0000\n",
      "Epoch 92/150\n",
      "455/455 [==============================] - 0s 385us/step - loss: 4.8797e-07 - acc: 1.0000\n",
      "Epoch 93/150\n",
      "455/455 [==============================] - 0s 420us/step - loss: 4.8162e-07 - acc: 1.0000\n",
      "Epoch 94/150\n",
      "455/455 [==============================] - 0s 329us/step - loss: 4.6766e-07 - acc: 1.0000\n",
      "Epoch 95/150\n",
      "455/455 [==============================] - 0s 372us/step - loss: 4.5984e-07 - acc: 1.0000\n",
      "Epoch 96/150\n",
      "455/455 [==============================] - 0s 420us/step - loss: 4.5229e-07 - acc: 1.0000\n",
      "Epoch 97/150\n",
      "455/455 [==============================] - ETA: 0s - loss: 3.3787e-07 - acc: 1.000 - 0s 388us/step - loss: 4.4299e-07 - acc: 1.0000\n",
      "Epoch 98/150\n",
      "455/455 [==============================] - 0s 400us/step - loss: 4.3714e-07 - acc: 1.0000\n",
      "Epoch 99/150\n",
      "455/455 [==============================] - 0s 408us/step - loss: 4.2613e-07 - acc: 1.0000\n",
      "Epoch 100/150\n",
      "455/455 [==============================] - 0s 480us/step - loss: 4.1674e-07 - acc: 1.0000\n",
      "Epoch 101/150\n",
      "455/455 [==============================] - 0s 349us/step - loss: 4.1771e-07 - acc: 1.0000\n",
      "Epoch 102/150\n",
      "455/455 [==============================] - 0s 394us/step - loss: 4.0938e-07 - acc: 1.0000\n",
      "Epoch 103/150\n",
      "455/455 [==============================] - 0s 333us/step - loss: 3.9939e-07 - acc: 1.0000\n",
      "Epoch 104/150\n",
      "455/455 [==============================] - 0s 355us/step - loss: 3.8842e-07 - acc: 1.0000\n",
      "Epoch 105/150\n",
      "455/455 [==============================] - 0s 425us/step - loss: 3.8157e-07 - acc: 1.0000\n",
      "Epoch 106/150\n",
      "455/455 [==============================] - 0s 456us/step - loss: 3.7799e-07 - acc: 1.0000\n",
      "Epoch 107/150\n",
      "455/455 [==============================] - 0s 594us/step - loss: 3.7307e-07 - acc: 1.0000\n",
      "Epoch 108/150\n",
      "455/455 [==============================] - 0s 362us/step - loss: 3.6088e-07 - acc: 1.0000\n",
      "Epoch 109/150\n",
      "455/455 [==============================] - 0s 388us/step - loss: 3.5579e-07 - acc: 1.0000\n",
      "Epoch 110/150\n",
      "455/455 [==============================] - 0s 594us/step - loss: 3.4934e-07 - acc: 1.0000\n",
      "Epoch 111/150\n",
      "455/455 [==============================] - 0s 557us/step - loss: 3.4337e-07 - acc: 1.0000\n",
      "Epoch 112/150\n",
      "455/455 [==============================] - 0s 506us/step - loss: 3.3607e-07 - acc: 1.0000\n",
      "Epoch 113/150\n",
      "455/455 [==============================] - 0s 573us/step - loss: 3.3340e-07 - acc: 1.0000\n",
      "Epoch 114/150\n",
      "455/455 [==============================] - 0s 689us/step - loss: 3.2366e-07 - acc: 1.0000\n",
      "Epoch 115/150\n",
      "455/455 [==============================] - 0s 557us/step - loss: 3.2143e-07 - acc: 1.0000\n",
      "Epoch 116/150\n",
      "455/455 [==============================] - 0s 558us/step - loss: 3.1572e-07 - acc: 1.0000\n",
      "Epoch 117/150\n",
      "455/455 [==============================] - 0s 532us/step - loss: 3.0731e-07 - acc: 1.0000\n",
      "Epoch 118/150\n",
      "455/455 [==============================] - 0s 577us/step - loss: 3.0226e-07 - acc: 1.0000\n",
      "Epoch 119/150\n",
      "455/455 [==============================] - 0s 467us/step - loss: 3.0370e-07 - acc: 1.0000\n",
      "Epoch 120/150\n",
      "455/455 [==============================] - 0s 369us/step - loss: 2.9193e-07 - acc: 1.0000\n",
      "Epoch 121/150\n",
      "455/455 [==============================] - 0s 416us/step - loss: 2.8908e-07 - acc: 1.0000\n",
      "Epoch 122/150\n",
      "455/455 [==============================] - 0s 398us/step - loss: 2.8121e-07 - acc: 1.0000\n",
      "Epoch 123/150\n",
      "455/455 [==============================] - 0s 365us/step - loss: 2.8039e-07 - acc: 1.0000\n",
      "Epoch 124/150\n",
      "455/455 [==============================] - 0s 428us/step - loss: 2.7438e-07 - acc: 1.0000\n",
      "Epoch 125/150\n",
      "455/455 [==============================] - 0s 410us/step - loss: 2.7062e-07 - acc: 1.0000\n",
      "Epoch 126/150\n",
      "455/455 [==============================] - 0s 391us/step - loss: 2.6980e-07 - acc: 1.0000\n",
      "Epoch 127/150\n",
      "455/455 [==============================] - 0s 414us/step - loss: 2.7417e-07 - acc: 1.0000\n",
      "Epoch 128/150\n",
      "455/455 [==============================] - 0s 433us/step - loss: 2.5732e-07 - acc: 1.0000\n",
      "Epoch 129/150\n",
      "455/455 [==============================] - 0s 516us/step - loss: 2.5346e-07 - acc: 1.0000\n",
      "Epoch 130/150\n",
      "455/455 [==============================] - 0s 378us/step - loss: 2.5089e-07 - acc: 1.0000\n",
      "Epoch 131/150\n",
      "455/455 [==============================] - 0s 418us/step - loss: 2.4636e-07 - acc: 1.0000\n",
      "Epoch 132/150\n",
      "455/455 [==============================] - 0s 404us/step - loss: 2.4219e-07 - acc: 1.0000\n",
      "Epoch 133/150\n",
      "455/455 [==============================] - 0s 393us/step - loss: 2.3905e-07 - acc: 1.0000\n",
      "Epoch 134/150\n",
      "455/455 [==============================] - 0s 507us/step - loss: 2.3567e-07 - acc: 1.0000\n",
      "Epoch 135/150\n",
      "455/455 [==============================] - 0s 567us/step - loss: 2.3218e-07 - acc: 1.0000\n",
      "Epoch 136/150\n",
      "455/455 [==============================] - 0s 508us/step - loss: 2.3043e-07 - acc: 1.0000\n",
      "Epoch 137/150\n",
      "455/455 [==============================] - 0s 510us/step - loss: 2.2597e-07 - acc: 1.0000\n",
      "Epoch 138/150\n",
      "455/455 [==============================] - 0s 517us/step - loss: 2.2545e-07 - acc: 1.0000\n",
      "Epoch 139/150\n",
      "455/455 [==============================] - 0s 483us/step - loss: 2.2113e-07 - acc: 1.0000\n",
      "Epoch 140/150\n",
      "455/455 [==============================] - 0s 386us/step - loss: 2.1844e-07 - acc: 1.0000\n",
      "Epoch 141/150\n",
      "455/455 [==============================] - 0s 346us/step - loss: 2.1793e-07 - acc: 1.0000\n",
      "Epoch 142/150\n",
      "455/455 [==============================] - 0s 330us/step - loss: 2.1447e-07 - acc: 1.0000\n",
      "Epoch 143/150\n",
      "455/455 [==============================] - 0s 356us/step - loss: 2.1036e-07 - acc: 1.0000\n",
      "Epoch 144/150\n",
      "455/455 [==============================] - 0s 448us/step - loss: 2.0585e-07 - acc: 1.0000\n",
      "Epoch 145/150\n",
      "455/455 [==============================] - 0s 391us/step - loss: 2.0519e-07 - acc: 1.0000\n",
      "Epoch 146/150\n",
      "455/455 [==============================] - 0s 389us/step - loss: 2.0039e-07 - acc: 1.0000\n",
      "Epoch 147/150\n",
      "455/455 [==============================] - 0s 435us/step - loss: 2.0007e-07 - acc: 1.0000\n",
      "Epoch 148/150\n",
      "455/455 [==============================] - 0s 366us/step - loss: 1.9674e-07 - acc: 1.0000\n",
      "Epoch 149/150\n",
      "455/455 [==============================] - 0s 347us/step - loss: 1.9489e-07 - acc: 1.0000\n",
      "Epoch 150/150\n",
      "455/455 [==============================] - 0s 373us/step - loss: 1.9191e-07 - acc: 1.0000\n"
     ]
    },
    {
     "data": {
      "text/plain": [
       "<keras.callbacks.History at 0x1a0bfe120f0>"
      ]
     },
     "execution_count": 35,
     "metadata": {},
     "output_type": "execute_result"
    }
   ],
   "source": [
    "nn_model.compile(loss='binary_crossentropy', optimizer='adam', metrics=['accuracy'])\n",
    "nn_model.fit(xTrain, yTrain, epochs=150, batch_size=10)"
   ]
  },
  {
   "cell_type": "markdown",
   "metadata": {},
   "source": [
    "We visualize our neural network model using `ann_viz` which generates a pdf-file with the visualization."
   ]
  },
  {
   "cell_type": "code",
   "execution_count": 29,
   "metadata": {},
   "outputs": [],
   "source": [
    "ann_viz(nn_model, title=\"Sequential Neural Network\")"
   ]
  },
  {
   "cell_type": "markdown",
   "metadata": {},
   "source": [
    "A screenshot of the visualization is the following:"
   ]
  },
  {
   "cell_type": "markdown",
   "metadata": {},
   "source": [
    "<img src=\"https://i.imgur.com/HZysPr3.png\">"
   ]
  },
  {
   "cell_type": "markdown",
   "metadata": {},
   "source": [
    "#### 6Aa. Evaluation of the model <a id=\"eva4\"></a>"
   ]
  },
  {
   "cell_type": "markdown",
   "metadata": {},
   "source": [
    "We test the neural network for accuracy."
   ]
  },
  {
   "cell_type": "code",
   "execution_count": 45,
   "metadata": {},
   "outputs": [
    {
     "name": "stdout",
     "output_type": "stream",
     "text": [
      "114/114 [==============================] - 0s 140us/step\n",
      "acc 99.12280701754386\n"
     ]
    }
   ],
   "source": [
    "scores = nn_model.evaluate(xTest, yTest)\n",
    "print(nn_model.metrics_names[1], scores[1]*100)"
   ]
  },
  {
   "cell_type": "markdown",
   "metadata": {},
   "source": [
    "The neural network predicts with an accuracy of 99,12%."
   ]
  },
  {
   "cell_type": "markdown",
   "metadata": {},
   "source": [
    "## 7. Final remarks <a id=\"final\"></a>"
   ]
  },
  {
   "cell_type": "markdown",
   "metadata": {},
   "source": [
    "We have used supervised and unsupervised learning for a binary classification of tumors. The most accurate model was the sequential neural network. Trailing behind in accuracy, the logistic regression had a low rate of false negatives. Of course, there are several other binary classification models we could apply to our dataset."
   ]
  },
  {
   "cell_type": "code",
   "execution_count": null,
   "metadata": {},
   "outputs": [],
   "source": []
  }
 ],
 "metadata": {
  "kernelspec": {
   "display_name": "Python 3",
   "language": "python",
   "name": "python3"
  },
  "language_info": {
   "codemirror_mode": {
    "name": "ipython",
    "version": 3
   },
   "file_extension": ".py",
   "mimetype": "text/x-python",
   "name": "python",
   "nbconvert_exporter": "python",
   "pygments_lexer": "ipython3",
   "version": "3.6.7"
  }
 },
 "nbformat": 4,
 "nbformat_minor": 2
}
